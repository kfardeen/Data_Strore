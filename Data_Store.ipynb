{
 "cells": [
  {
   "cell_type": "code",
   "execution_count": 1,
   "metadata": {},
   "outputs": [],
   "source": [
    "#import libraries\n",
    "import sys\n",
    "import json"
   ]
  },
  {
   "cell_type": "code",
   "execution_count": 2,
   "metadata": {},
   "outputs": [],
   "source": [
    "#dictionary to store data\n",
    "main={}"
   ]
  },
  {
   "cell_type": "code",
   "execution_count": 3,
   "metadata": {},
   "outputs": [
    {
     "name": "stdout",
     "output_type": "stream",
     "text": [
      "CREATE KEY VLAUE DATA STORE FOR THE FIRST TIME\n",
      "yes\n"
     ]
    }
   ],
   "source": [
    "print(\"CREATE KEY VLAUE DATA STORE FOR THE FIRST TIME\")\n",
    "x=input()\n",
    "if x=='yes':\n",
    "    #data store file as json \n",
    "    with open ('data_store.json','w') as DATA_STORE:\n",
    "        json.dump(main,DATA_STORE)\n",
    "    \n",
    "    "
   ]
  },
  {
   "cell_type": "code",
   "execution_count": 4,
   "metadata": {},
   "outputs": [],
   "source": [
    "#load data store key value pair in data\n",
    "with open ('data_store.json','r') as DATA_STORE:\n",
    "    data=json.load(DATA_STORE)\n"
   ]
  },
  {
   "cell_type": "code",
   "execution_count": 5,
   "metadata": {},
   "outputs": [],
   "source": [
    "#CRD operations\n",
    "\n",
    "def delete_op(data):\n",
    "    key=input(\"ENTER KEY TO DELETE \")\n",
    "    if key not in data:\n",
    "        print('KEY NOT EXISTS')\n",
    "    else:\n",
    "        del data[key]\n",
    "        print('DELETED')\n",
    "\n",
    "def create_op(data):\n",
    "    key=input(\"ENTER KEY TO CREATE \")\n",
    "    if key not in data:\n",
    "        print()\n",
    "        x=input(\"ENTER VALUE IN JASON FORMAT\")\n",
    "        #convert into python dictionary\n",
    "        x=json.loads(x)\n",
    "        check=1\n",
    "        #check if key is capped at length 32\n",
    "        if(len(key)>32):\n",
    "            print(\"KEY LIMIT EXCEED\")\n",
    "            check=0\n",
    "        #check if value is capped at length 16k bytes    \n",
    "        if sys.getsizeof(x)>16000:\n",
    "            print(\"VALUE LIMIT EXCEED\")\n",
    "            check=0\n",
    "            \n",
    "        if check:\n",
    "            data[key]=x\n",
    "            if sys.getsizeof(data)>1073741824:\n",
    "                del data[key]\n",
    "            else:\n",
    "                print(\"DATA STORE LIMIT EXCEED\")\n",
    "\n",
    "    else:\n",
    "        print('KEY ALREADY EXISTS')\n",
    "\n",
    "\n",
    "def read_op(data):\n",
    "    key=input(\"ENTER KEY TO READ \")\n",
    "    if key not in data:\n",
    "        print(\"KEY NOT EXISTS\")\n",
    "    else:\n",
    "        print(f'KEY:{key},VALUE:{data[key]}')\n",
    "\n"
   ]
  },
  {
   "cell_type": "code",
   "execution_count": 6,
   "metadata": {},
   "outputs": [
    {
     "name": "stdout",
     "output_type": "stream",
     "text": [
      "1 to CREATE ,2 to READ,3 to DELETE,0 to EXIT  1\n",
      "\n",
      "ENTER KEY TO CREATE 1\n",
      "\n",
      "ENTER VALUE IN JASON FORMAT{\"raju\":10}\n",
      "1 to CREATE ,2 to READ,3 to DELETE,0 to EXIT  1\n",
      "\n",
      "ENTER KEY TO CREATE 1\n",
      "KEY ALREADY EXISTS\n",
      "1 to CREATE ,2 to READ,3 to DELETE,0 to EXIT  3\n",
      "\n",
      "ENTER KEY TO DELETE 2\n",
      "KEY NOT EXISTS\n",
      "1 to CREATE ,2 to READ,3 to DELETE,0 to EXIT  1\n",
      "\n",
      "ENTER KEY TO CREATE 2\n",
      "\n",
      "ENTER VALUE IN JASON FORMAT{\"rakhi\":\"dalal\"}\n",
      "1 to CREATE ,2 to READ,3 to DELETE,0 to EXIT  2\n",
      "\n",
      "ENTER KEY TO READ1\n",
      "KEY:1,VALUE:{'raju': 10}\n",
      "1 to CREATE ,2 to READ,3 to DELETE,0 to EXIT  2\n",
      "\n",
      "ENTER KEY TO READ3\n",
      "KEY NOT EXISTS\n",
      "1 to CREATE ,2 to READ,3 to DELETE,0 to EXIT  1\n",
      "\n",
      "ENTER KEY TO CREATE 1\n",
      "KEY ALREADY EXISTS\n",
      "1 to CREATE ,2 to READ,3 to DELETE,0 to EXIT  3\n",
      "\n",
      "ENTER KEY TO DELETE 1\n",
      "DELETED\n",
      "1 to CREATE ,2 to READ,3 to DELETE,0 to EXIT  3\n",
      "\n",
      "ENTER KEY TO DELETE 1\n",
      "KEY NOT EXISTS\n",
      "1 to CREATE ,2 to READ,3 to DELETE,0 to EXIT  3\n",
      "\n",
      "ENTER KEY TO DELETE 2\n",
      "DELETED\n",
      "1 to CREATE ,2 to READ,3 to DELETE,0 to EXIT  0\n",
      "\n"
     ]
    }
   ],
   "source": [
    "while 1:\n",
    "    \n",
    "    x=int(input(\"1 to CREATE ,2 to READ,3 to DELETE,0 to EXIT  \"))\n",
    "    \n",
    "    print()\n",
    "    if x==1:\n",
    "        create_op(data)\n",
    "    elif x==2:\n",
    "        read_op(data)\n",
    "    elif x==3:\n",
    "        delete_op(data)\n",
    "    else:\n",
    "        break\n",
    "        \n",
    "        "
   ]
  },
  {
   "cell_type": "markdown",
   "metadata": {},
   "source": [
    "    SAVE CHANGES TO DATA_STORE"
   ]
  },
  {
   "cell_type": "code",
   "execution_count": 7,
   "metadata": {},
   "outputs": [
    {
     "name": "stdout",
     "output_type": "stream",
     "text": [
      "{}\n"
     ]
    }
   ],
   "source": [
    "print(data)"
   ]
  },
  {
   "cell_type": "code",
   "execution_count": 8,
   "metadata": {},
   "outputs": [],
   "source": [
    "with open ('data_store.json','w') as DATA_STORE:\n",
    "    json.dump(data,DATA_STORE)"
   ]
  },
  {
   "cell_type": "code",
   "execution_count": null,
   "metadata": {},
   "outputs": [],
   "source": []
  }
 ],
 "metadata": {
  "kernelspec": {
   "display_name": "Python 3",
   "language": "python",
   "name": "python3"
  },
  "language_info": {
   "codemirror_mode": {
    "name": "ipython",
    "version": 3
   },
   "file_extension": ".py",
   "mimetype": "text/x-python",
   "name": "python",
   "nbconvert_exporter": "python",
   "pygments_lexer": "ipython3",
   "version": "3.7.1"
  }
 },
 "nbformat": 4,
 "nbformat_minor": 2
}

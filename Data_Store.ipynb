{
 "cells": [
  {
   "cell_type": "markdown",
   "metadata": {},
   "source": [
    "# JSON based key-value data store that support basic CRD(Create,Read,Delete) operations"
   ]
  },
  {
   "cell_type": "code",
   "execution_count": 1,
   "metadata": {},
   "outputs": [],
   "source": [
    "# import libraries\n",
    "import sys\n",
    "import json"
   ]
  },
  {
   "cell_type": "code",
   "execution_count": 2,
   "metadata": {},
   "outputs": [],
   "source": [
    "#dictionary to store data\n",
    "main={}"
   ]
  },
  {
   "cell_type": "markdown",
   "metadata": {},
   "source": [
    "First create JSON file if not exist .Then we load data and perform basic operations which fulfill the conditions as given below an then commit after changes"
   ]
  },
  {
   "cell_type": "code",
   "execution_count": 3,
   "metadata": {},
   "outputs": [
    {
     "name": "stdout",
     "output_type": "stream",
     "text": [
      "CREATE KEY VLAUE DATA STORE FOR THE FIRST TIME yes\n"
     ]
    }
   ],
   "source": [
    "x=input(\"CREATE KEY VLAUE DATA STORE FOR THE FIRST TIME \")\n",
    "if x=='yes':\n",
    "    #data store file as json \n",
    "    with open ('data_store.json','w') as DATA_STORE:\n",
    "        json.dump(main,DATA_STORE)\n",
    "    \n",
    "    "
   ]
  },
  {
   "cell_type": "code",
   "execution_count": null,
   "metadata": {},
   "outputs": [],
   "source": []
  },
  {
   "cell_type": "markdown",
   "metadata": {},
   "source": [
    "load data store key value pair in data(dictionary) to perform operations "
   ]
  },
  {
   "cell_type": "code",
   "execution_count": 4,
   "metadata": {},
   "outputs": [],
   "source": [
    "\n",
    "with open ('data_store.json','r') as DATA_STORE:\n",
    "    data=json.load(DATA_STORE)\n"
   ]
  },
  {
   "cell_type": "code",
   "execution_count": null,
   "metadata": {},
   "outputs": [],
   "source": []
  },
  {
   "cell_type": "markdown",
   "metadata": {},
   "source": [
    "Basic CRD operations along with requirements as given in assignment"
   ]
  },
  {
   "cell_type": "code",
   "execution_count": 5,
   "metadata": {},
   "outputs": [],
   "source": [
    "#CRD operations\n",
    "\n",
    "def delete_op(data):\n",
    "    key=input(\"ENTER KEY TO DELETE \")\n",
    "    if key not in data:\n",
    "        print(\"KEY NOT EXISTS\")\n",
    "    else:\n",
    "        del data[key]\n",
    "        print(\"DELETED\")\n",
    "\n",
    "def create_op(data):\n",
    "    key=input(\"ENTER KEY TO CREATE \")\n",
    "    if key not in data:\n",
    "        print()\n",
    "        x=input(\"ENTER VALUE IN JASON FORMAT\")\n",
    "        print()\n",
    "        #convert into python dictionary\n",
    "        x=json.loads(x)\n",
    "        check=1\n",
    "        #check if key is capped at length 32\n",
    "        if(len(key)>32):\n",
    "            print(\"KEY LIMIT EXCEED\")\n",
    "            check=0\n",
    "        #check if value is capped at length 16k bytes    \n",
    "        if sys.getsizeof(x)>16000:\n",
    "            print(\"VALUE LIMIT EXCEED\")\n",
    "            check=0\n",
    "            \n",
    "        if check:\n",
    "            data[key]=x\n",
    "            if sys.getsizeof(data)>1073741824:\n",
    "                del data[key]\n",
    "                print(\"DATA STORE LIMIT EXCEED\")\n",
    "                print()\n",
    "        else:\n",
    "            print()\n",
    "\n",
    "    else:\n",
    "        print('KEY ALREADY EXISTS')\n",
    "        print()\n",
    "\n",
    "\n",
    "def read_op(data):\n",
    "    key=input(\"ENTER KEY TO READ \")\n",
    "    print()\n",
    "    if key not in data:\n",
    "        print(\"KEY NOT EXISTS\")\n",
    "    else:\n",
    "        print(f'KEY:{key},VALUE:{data[key]}')\n",
    "    print()\n"
   ]
  },
  {
   "cell_type": "code",
   "execution_count": null,
   "metadata": {},
   "outputs": [],
   "source": []
  },
  {
   "cell_type": "markdown",
   "metadata": {},
   "source": [
    "Perform Operations As per requiements"
   ]
  },
  {
   "cell_type": "code",
   "execution_count": 6,
   "metadata": {},
   "outputs": [
    {
     "name": "stdout",
     "output_type": "stream",
     "text": [
      "1 to CREATE ,2 to READ,3 to DELETE,0 to EXIT  1\n",
      "\n",
      "ENTER KEY TO CREATE 1\n",
      "\n",
      "ENTER VALUE IN JASON FORMAT{\"Rahul\":10,\"Virat\":11}\n",
      "\n",
      "1 to CREATE ,2 to READ,3 to DELETE,0 to EXIT  1\n",
      "\n",
      "ENTER KEY TO CREATE 2\n",
      "\n",
      "ENTER VALUE IN JASON FORMAT{\"Rohit\":100,\"Rahane\":101}\n",
      "\n",
      "1 to CREATE ,2 to READ,3 to DELETE,0 to EXIT  1\n",
      "\n",
      "ENTER KEY TO CREATE 1\n",
      "KEY ALREADY EXISTS\n",
      "\n",
      "1 to CREATE ,2 to READ,3 to DELETE,0 to EXIT  1\n",
      "\n",
      "ENTER KEY TO CREATE abcdefghijklmnopqrstuvwxyzabcdef\n",
      "\n",
      "ENTER VALUE IN JASON FORMAT{\"Raju\":\"Roy\",\"check\":1}\n",
      "\n",
      "1 to CREATE ,2 to READ,3 to DELETE,0 to EXIT  1\n",
      "\n",
      "ENTER KEY TO CREATE abcdefghijklmnopqrstuvwxyzabcdefg\n",
      "\n",
      "ENTER VALUE IN JASON FORMAT{\"checking\":123}\n",
      "\n",
      "KEY LIMIT EXCEED\n",
      "\n",
      "1 to CREATE ,2 to READ,3 to DELETE,0 to EXIT  2\n",
      "\n",
      "ENTER KEY TO READ 1\n",
      "\n",
      "KEY:1,VALUE:{'Rahul': 10, 'Virat': 11}\n",
      "\n",
      "1 to CREATE ,2 to READ,3 to DELETE,0 to EXIT  2\n",
      "\n",
      "ENTER KEY TO READ abcdefghijklmnopqrstuvwxyzabcdef\n",
      "\n",
      "KEY:abcdefghijklmnopqrstuvwxyzabcdef,VALUE:{'Raju': 'Roy', 'check': 1}\n",
      "\n",
      "1 to CREATE ,2 to READ,3 to DELETE,0 to EXIT  2\n",
      "\n",
      "ENTER KEY TO READ 3\n",
      "\n",
      "KEY NOT EXISTS\n",
      "\n",
      "1 to CREATE ,2 to READ,3 to DELETE,0 to EXIT  3\n",
      "\n",
      "ENTER KEY TO DELETE abcdefghijklmnopqrstuvwxyzabcdef\n",
      "DELETED\n",
      "1 to CREATE ,2 to READ,3 to DELETE,0 to EXIT  3\n",
      "\n",
      "ENTER KEY TO DELETE abcdefghijklmnopqrstuvwxyzabcdef\n",
      "KEY NOT EXISTS\n",
      "1 to CREATE ,2 to READ,3 to DELETE,0 to EXIT  3\n",
      "\n",
      "ENTER KEY TO DELETE 3\n",
      "KEY NOT EXISTS\n",
      "1 to CREATE ,2 to READ,3 to DELETE,0 to EXIT  0\n",
      "\n"
     ]
    }
   ],
   "source": [
    "while 1:\n",
    "    \n",
    "    x=int(input(\"1 to CREATE ,2 to READ,3 to DELETE,0 to EXIT  \"))\n",
    "    \n",
    "    print()\n",
    "    if x==1:\n",
    "        create_op(data)\n",
    "    elif x==2:\n",
    "        read_op(data)\n",
    "    elif x==3:\n",
    "        delete_op(data)\n",
    "    else:\n",
    "        break\n",
    "        \n",
    "        "
   ]
  },
  {
   "cell_type": "code",
   "execution_count": null,
   "metadata": {},
   "outputs": [],
   "source": []
  },
  {
   "cell_type": "markdown",
   "metadata": {},
   "source": [
    "Save changes into Data Store"
   ]
  },
  {
   "cell_type": "code",
   "execution_count": 7,
   "metadata": {},
   "outputs": [
    {
     "name": "stdout",
     "output_type": "stream",
     "text": [
      "{'1': {'Rahul': 10, 'Virat': 11}, '2': {'Rohit': 100, 'Rahane': 101}}\n"
     ]
    }
   ],
   "source": [
    "print(data)"
   ]
  },
  {
   "cell_type": "code",
   "execution_count": null,
   "metadata": {},
   "outputs": [],
   "source": []
  },
  {
   "cell_type": "code",
   "execution_count": 8,
   "metadata": {},
   "outputs": [],
   "source": [
    "with open ('data_store.json','w') as DATA_STORE:\n",
    "    json.dump(data,DATA_STORE)"
   ]
  },
  {
   "cell_type": "code",
   "execution_count": null,
   "metadata": {},
   "outputs": [],
   "source": []
  }
 ],
 "metadata": {
  "kernelspec": {
   "display_name": "Python 3",
   "language": "python",
   "name": "python3"
  },
  "language_info": {
   "codemirror_mode": {
    "name": "ipython",
    "version": 3
   },
   "file_extension": ".py",
   "mimetype": "text/x-python",
   "name": "python",
   "nbconvert_exporter": "python",
   "pygments_lexer": "ipython3",
   "version": "3.7.1"
  }
 },
 "nbformat": 4,
 "nbformat_minor": 2
}
